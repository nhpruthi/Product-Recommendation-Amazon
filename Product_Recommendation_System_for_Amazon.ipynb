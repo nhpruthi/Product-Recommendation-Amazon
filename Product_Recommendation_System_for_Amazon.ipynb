{
  "nbformat": 4,
  "nbformat_minor": 0,
  "metadata": {
    "colab": {
      "provenance": []
    },
    "kernelspec": {
      "name": "python3",
      "display_name": "Python 3"
    },
    "language_info": {
      "name": "python"
    }
  },
  "cells": [
    {
      "cell_type": "code",
      "execution_count": null,
      "metadata": {
        "id": "K6wNzmX1fJ3h"
      },
      "outputs": [],
      "source": [
        "import numpy as np\n",
        "import pandas as pd\n",
        "import matplotlib.pyplot as plt\n",
        "\n",
        "# %matplotlib inline\n",
        "plt.style.use(\"ggplot\")\n",
        "\n",
        "import sklearn\n",
        "from sklearn.decomposition import TruncatedSVD"
      ]
    },
    {
      "cell_type": "code",
      "source": [
        "# Loading the Amazon Beauty Products Dataset\n",
        "amazon_ratings = pd.read_csv('/content/ratings_Beauty.csv')\n",
        "amazon_ratings = amazon_ratings.dropna()\n",
        "amazon_ratings.head()\n"
      ],
      "metadata": {
        "id": "gPf-1lVVhPHf"
      },
      "execution_count": null,
      "outputs": []
    },
    {
      "cell_type": "code",
      "source": [
        "# Finding popular products based on customer's ratings\n",
        "\n",
        "popular_products = pd.DataFrame(amazon_ratings.groupby('ProductId')['Rating'].count())\n",
        "most_popular = popular_products.sort_values('Rating', ascending=False)\n",
        "most_popular.head(10)"
      ],
      "metadata": {
        "id": "lIN3q_feiPxU"
      },
      "execution_count": null,
      "outputs": []
    },
    {
      "cell_type": "code",
      "source": [
        "most_popular.head(30).plot(kind = \"bar\")"
      ],
      "metadata": {
        "id": "uOtBo-kgicvw"
      },
      "execution_count": null,
      "outputs": []
    },
    {
      "cell_type": "markdown",
      "source": [
        "## Model-Based Collaborative Filtering ##\n",
        "* Recommend items to users based on purchase history and similarity of ratings provided by other users who bought items to that of a particular customer.\n",
        "* A model based collaborative filtering technique is chosen here as it helps in making predicting products for a particular user by identifying patterns based on preferences from multiple user data."
      ],
      "metadata": {
        "id": "uEaPRyfxjF6u"
      }
    },
    {
      "cell_type": "code",
      "source": [
        "# Subset of Amazon Ratings\n",
        "amazon_ratings1 = amazon_ratings.head(10000)\n",
        "\n",
        "# Utility matrix is based on products sold and user reviews\n",
        "\n",
        "ratings_utility_matrix = amazon_ratings1.pivot_table(values='Rating', index='UserId', columns='ProductId', fill_value=0)\n",
        "ratings_utility_matrix.head()"
      ],
      "metadata": {
        "collapsed": true,
        "id": "KE5sMnbIjFNX"
      },
      "execution_count": null,
      "outputs": []
    },
    {
      "cell_type": "markdown",
      "source": [
        "Utility Matrix : An utlity matrix consists of all possible user-item preferences (ratings) details represented as a matrix. The utility matrix is sparce as none of the users would buy all the items in the list, hence, most of the values are unknown."
      ],
      "metadata": {
        "id": "4MS3e-djkqqU"
      }
    },
    {
      "cell_type": "code",
      "source": [
        "# Transposing the matrix\n",
        "X = ratings_utility_matrix.T\n",
        "\n",
        "# Unique products in subset of data\n",
        "X1 = X\n",
        "\n",
        "# Decomposing the Matrix\n",
        "SVD = TruncatedSVD(n_components=10)\n",
        "decomposed_matrix = SVD.fit_transform(X)\n"
      ],
      "metadata": {
        "id": "1KbwhZUskpkM"
      },
      "execution_count": null,
      "outputs": []
    },
    {
      "cell_type": "markdown",
      "source": [
        "Correlation Matrix"
      ],
      "metadata": {
        "id": "48yE25_ml6xU"
      }
    },
    {
      "cell_type": "code",
      "source": [
        "correlation_matrix = np.corrcoef(decomposed_matrix)"
      ],
      "metadata": {
        "id": "pzxquw0TmCLB"
      },
      "execution_count": null,
      "outputs": []
    },
    {
      "cell_type": "markdown",
      "source": [
        "Isolating Product ID # 6117036094 from the Correlation Matrix\n",
        "Assuming the customer buys Product ID # 6117036094 (randomly chosen)"
      ],
      "metadata": {
        "id": "_XqHxgpcmRl_"
      }
    },
    {
      "cell_type": "code",
      "source": [
        "X.index[99]"
      ],
      "metadata": {
        "id": "V-rqsNUOmUhe"
      },
      "execution_count": null,
      "outputs": []
    },
    {
      "cell_type": "code",
      "source": [
        "# Index No. of product ID purchased by customer\n",
        "item = \"6117036094\"\n",
        "\n",
        "product_names = list(X.index)\n",
        "product_ID = product_names.index(item)\n",
        "product_ID"
      ],
      "metadata": {
        "id": "WhwwdiZOm26W"
      },
      "execution_count": null,
      "outputs": []
    },
    {
      "cell_type": "markdown",
      "source": [
        "Correlation for all items with the item purchased by this customer based on items rated by other customers people who bought the same product"
      ],
      "metadata": {
        "id": "nKl6zjLznE_m"
      }
    },
    {
      "cell_type": "code",
      "source": [
        "correlation_product_ID = correlation_matrix[product_ID]\n",
        "correlation_product_ID.shape"
      ],
      "metadata": {
        "id": "BHOwW68CnG61"
      },
      "execution_count": null,
      "outputs": []
    },
    {
      "cell_type": "markdown",
      "source": [
        "Recommending top 10 highly correlated products in sequence"
      ],
      "metadata": {
        "id": "TTkxZTAsnYNt"
      }
    },
    {
      "cell_type": "code",
      "source": [
        "Recommend = list(X.index[correlation_product_ID > 0.90])\n",
        "\n",
        "# Removes the item already bought by the customer\n",
        "Recommend.remove(item)\n",
        "\n",
        "Recommend[0:9]"
      ],
      "metadata": {
        "collapsed": true,
        "id": "kQspLejQnZlS"
      },
      "execution_count": null,
      "outputs": []
    }
  ]
}